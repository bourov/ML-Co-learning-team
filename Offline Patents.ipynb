{
 "cells": [
  {
   "cell_type": "markdown",
   "metadata": {},
   "source": [
    "# Reading patent descriptions from offline files"
   ]
  },
  {
   "cell_type": "markdown",
   "metadata": {},
   "source": [
    "The brf_sum_text.zip file is downloaded from [here](http://www.patentsview.org/download/)\n",
    "- Size:11.917 GB\n",
    "- Contents:Brief summary text\n",
    "- Rows:5,675,526\n",
    "- Format:raw"
   ]
  },
  {
   "attachments": {
    "brf_summary_data_dictionary.png": {
     "image/png": "[encoded data removed]"
    }
   },
   "cell_type": "markdown",
   "metadata": {},
   "source": [
    "The data dictionary for this file is at the same [location](http://www.patentsview.org/data/Patents_DB_dictionary_bulk_downloads.xlsx)\n",
    "\n",
    "![brf_summary_data_dictionary.png](attachment:brf_summary_data_dictionary.png)"
   ]
  },
  {
   "cell_type": "code",
   "execution_count": 7,
   "metadata": {
    "collapsed": true
   },
   "outputs": [],
   "source": [
    "folderPath = '//THEBIGONE/AnatolyThings/patents/'\n",
    "fileName = 'brf_sum_text.zip'"
   ]
  },
  {
   "cell_type": "code",
   "execution_count": 8,
   "metadata": {},
   "outputs": [
    {
     "name": "stdout",
     "output_type": "stream",
     "text": [
      "//THEBIGONE/AnatolyThings/patents/brf_sum_text.zip\n"
     ]
    }
   ],
   "source": [
    "import pandas as pd\n",
    "import os\n",
    "\n",
    "fullName = os.path.join(folderPath, fileName)\n",
    "print(fullName)"
   ]
  },
  {
   "cell_type": "markdown",
   "metadata": {},
   "source": [
    "File insize the zip is a tsv, sounds like tab-separated"
   ]
  },
  {
   "cell_type": "code",
   "execution_count": 10,
   "metadata": {},
   "outputs": [],
   "source": [
    "ds = pd.read_csv(fullName, nrows=10, delimiter='\\t' )"
   ]
  },
  {
   "cell_type": "code",
   "execution_count": 11,
   "metadata": {},
   "outputs": [
    {
     "data": {
      "text/html": [
       "<div>\n",
       "<table border=\"1\" class=\"dataframe\">\n",
       "  <thead>\n",
       "    <tr style=\"text-align: right;\">\n",
       "      <th></th>\n",
       "      <th>uuid</th>\n",
       "      <th>patent_id</th>\n",
       "      <th>text</th>\n",
       "    </tr>\n",
       "  </thead>\n",
       "  <tbody>\n",
       "    <tr>\n",
       "      <th>0</th>\n",
       "      <td>0000lhuok5aw1ffssgnz2gd0c</td>\n",
       "      <td>8918554</td>\n",
       "      <td>BACKGROUND The present disclosure describes sy...</td>\n",
       "    </tr>\n",
       "    <tr>\n",
       "      <th>1</th>\n",
       "      <td>0000tym7440cjm2cz6rxn9i6w</td>\n",
       "      <td>5228129</td>\n",
       "      <td>The present invention relates to data communic...</td>\n",
       "    </tr>\n",
       "    <tr>\n",
       "      <th>2</th>\n",
       "      <td>00019c2o1xqb8sqhlfkhqn32o</td>\n",
       "      <td>8875714</td>\n",
       "      <td>SUMMARY In one aspect, a device for implantati...</td>\n",
       "    </tr>\n",
       "    <tr>\n",
       "      <th>3</th>\n",
       "      <td>00019cockeyaprhxfdxm6s4ou</td>\n",
       "      <td>8880867</td>\n",
       "      <td>BACKGROUND Unless otherwise indicated herein, ...</td>\n",
       "    </tr>\n",
       "    <tr>\n",
       "      <th>4</th>\n",
       "      <td>00019noc8bp7annfdypdk22g6</td>\n",
       "      <td>9472020</td>\n",
       "      <td>FIELD OF THE INVENTION The present invention r...</td>\n",
       "    </tr>\n",
       "    <tr>\n",
       "      <th>5</th>\n",
       "      <td>0001e9g8nfmtc3bz3etyxr11y</td>\n",
       "      <td>3938781</td>\n",
       "      <td>The use of large winches mounted upon vehicles...</td>\n",
       "    </tr>\n",
       "    <tr>\n",
       "      <th>6</th>\n",
       "      <td>0001jqtr6uzfakihq41qiizog</td>\n",
       "      <td>6206359</td>\n",
       "      <td>1. Field of the Invention The present inventio...</td>\n",
       "    </tr>\n",
       "    <tr>\n",
       "      <th>7</th>\n",
       "      <td>0001kp357xz5i3pzg2cdamqj3</td>\n",
       "      <td>5814311</td>\n",
       "      <td>The present invention relates to a composition...</td>\n",
       "    </tr>\n",
       "    <tr>\n",
       "      <th>8</th>\n",
       "      <td>0001rgonhjd591ye654wamdt3</td>\n",
       "      <td>6392419</td>\n",
       "      <td>FIELD OF THE INVENTION This invention relates ...</td>\n",
       "    </tr>\n",
       "    <tr>\n",
       "      <th>9</th>\n",
       "      <td>0001wit7ltx31uu0hgjaly7va</td>\n",
       "      <td>8517411</td>\n",
       "      <td>This invention relates to a trolley. In partic...</td>\n",
       "    </tr>\n",
       "  </tbody>\n",
       "</table>\n",
       "</div>"
      ],
      "text/plain": [
       "                        uuid  patent_id  \\\n",
       "0  0000lhuok5aw1ffssgnz2gd0c    8918554   \n",
       "1  0000tym7440cjm2cz6rxn9i6w    5228129   \n",
       "2  00019c2o1xqb8sqhlfkhqn32o    8875714   \n",
       "3  00019cockeyaprhxfdxm6s4ou    8880867   \n",
       "4  00019noc8bp7annfdypdk22g6    9472020   \n",
       "5  0001e9g8nfmtc3bz3etyxr11y    3938781   \n",
       "6  0001jqtr6uzfakihq41qiizog    6206359   \n",
       "7  0001kp357xz5i3pzg2cdamqj3    5814311   \n",
       "8  0001rgonhjd591ye654wamdt3    6392419   \n",
       "9  0001wit7ltx31uu0hgjaly7va    8517411   \n",
       "\n",
       "                                                text  \n",
       "0  BACKGROUND The present disclosure describes sy...  \n",
       "1  The present invention relates to data communic...  \n",
       "2  SUMMARY In one aspect, a device for implantati...  \n",
       "3  BACKGROUND Unless otherwise indicated herein, ...  \n",
       "4  FIELD OF THE INVENTION The present invention r...  \n",
       "5  The use of large winches mounted upon vehicles...  \n",
       "6  1. Field of the Invention The present inventio...  \n",
       "7  The present invention relates to a composition...  \n",
       "8  FIELD OF THE INVENTION This invention relates ...  \n",
       "9  This invention relates to a trolley. In partic...  "
      ]
     },
     "execution_count": 11,
     "metadata": {},
     "output_type": "execute_result"
    }
   ],
   "source": [
    "ds"
   ]
  },
  {
   "cell_type": "code",
   "execution_count": 23,
   "metadata": {},
   "outputs": [
    {
     "data": {
      "text/plain": [
       "uuid         object\n",
       "patent_id     int64\n",
       "text         object\n",
       "dtype: object"
      ]
     },
     "execution_count": 23,
     "metadata": {},
     "output_type": "execute_result"
    }
   ],
   "source": [
    "ds.dtypes"
   ]
  },
  {
   "cell_type": "code",
   "execution_count": 30,
   "metadata": {},
   "outputs": [
    {
     "name": "stdout",
     "output_type": "stream",
     "text": [
      "[ 'BACKGROUND The present disclosure describes systems and techniques relating to effectively increasing a command queue length for accessing storage, such as by increasing the Queuing Depth (Q-Depth) of Serial Advanced Technology Attachment (SATA) Native Command Queuing (NCQ) Commands. Many electronic devices include embedded systems to control the operation of the underlying devices and to provide enhanced functionality and operational flexibility. Typically, non-volatile memory is included as a portion of the embedded system to store operating system program code, issued commands and critical data for operating the embedded system. Some embedded systems use solid state memory as non-volatile memory (e.g., electrically Erasable Read Only Memory (EEPROM)). Solid state memory may be used to accelerate applications to increase data access time, and may be advantageously programmed or re-programmed to provide non-volatile storage of information. In a computer system, a host bus adapter can connect a host system (e.g., a computer) to other network and storage devices (e.g., a hard disk drive, a solid state drive, an optical disk drive, etc.). Serial Advanced Technology Attachment (SATA) is an interface protocol used to control transfer of data and information from a host to a storage device. Native command queuing is an extension of the SATA protocol allowing a storage device to internally optimize the order in which received read and write commands are executed. Native command queuing protocols typically have a maximum queue length. Command consolidation is possible for sequential commands where the Logical Block Address values are adjacent. That is, sequential commands with adjacent LBAs can be combined into a single command by using the LBA value of the first command and setting a data transfer count to be the sum of the transfer count for the sequential commands. SUMMARY The present disclosure includes systems and techniques relating to effectively increasing a command queue length for accessing storage, such as by increasing the Queuing Depth (Q-Depth) of Native Command Queuing (NCQ) Commands. In an implementation, a controller is configured to communicate with a host through interface hardware using a protocol that has a maximum queue length for outstanding commands. The controller is configured to receive and process commands for accessing storage, including receiving a first command, identifying the first command as an information command having consolidation information, storing the consolidation information, receiving a second command, identifying the second command as a consolidated command associated with the consolidation information, generating multiple commands from the consolidated command using the consolidation information, and processing the multiple commands, each of which includes an address and a data transfer count, with respect to the storage. These and other implementations can optionally include one or more of the following features. The controller can receive additional commands, identify each of the additional commands as a consolidated command associated with the consolidation information, generate further commands, from each respective consolidated command of the additional commands, using the consolidation information, and process the further commands, each of which includes an address and a data transfer count, with respect to the storage. The controller can identify the first command as an information command having consolidation information by determining that a specific bit is set in a frame information structure corresponding to the first command. The controller can identify the second command as a consolidated command associated with the consolidation information by determining that a specific bit is set in a frame information structure corresponding to the second command. The controller can be a SATA controller utilizing NCQ with a maximum Q-Depth. The maximum Q-depth can be 32 NCQ commands where each of the 32 commands can be referenced by a TAG value ranging from TAG <b>0</b> to TAG <b>31</b>. A proper subset of the 32 NCQ commands can correspond to information commands and a proper subset of the 32 NCQ commands can correspond to consolidated commands. The command referenced by TAG <b>0</b> can be an information command specifying consolidation data for consolidated commands referenced by TAGs <b>1</b> to TAG <b>7</b>, the command referenced by TAG <b>8</b> can be an information command specifying consolidation data for consolidated commands referenced by TAGs <b>9</b> to TAG <b>15</b>, the command referenced by TAG <b>16</b> can be an information command specifying consolidation data for consolidated commands referenced by TAG <b>17</b> to TAG <b>23</b>, and the command referenced by TAG <b>24</b> can be an information command specifying consolidation data for consolidated commands referenced by TAGs <b>25</b> to TAG <b>31</b>. The controller can be further enclosed in housing, along with at least a portion of the interface hardware and integrated circuit assemblies forming memory to store data persistently, wherein the integrated circuit assemblies are communicatively coupled with the controller. In an implementation, a method includes receiving a first command to access a first memory location of a storage device, receiving a second command to access a second memory location of a storage device, constructing a consolidated command including a memory address and a data transfer count associated with each of the first command and the second command, constructing an information command having consolidation information about the consolidated command, and communicating the information command and the consolidated command to the storage device. These and other implementations can optionally include one or more of the following features. Constructing the consolidated command can include setting a corresponding bit in a frame information structure associated with the consolidated command. Constructing the information command can include setting a corresponding bit in a frame information structure associated with the information command. The storage device can be a SATA device utilizing NCQ with a maximum Q-Depth. The maximum Q-depth can be 32 NCQ commands and wherein each of the 32 commands is referenced by a TAG value ranging from TAG <b>0</b> to TAG <b>31</b>. A proper subset of the 32 NCQ commands can correspond to information commands and a proper subset of the 32 NCQ commands can correspond to consolidated commands. In an implementation, a system includes a host computer; a storage device including: interface hardware configured to communicate with the host, a controller configured to communicate with the host through the interface hardware using a protocol that has a maximum queue length for outstanding commands, and memory to store data persistently; a host bus adapter communicatively coupled to the host, the host bus adapter including a driver configured to: receive commands to access the memory of the storage device; construct a consolidated command including a memory address and a data transfer count from each of the received commands; construct an information command having consolidation information about the consolidated command; and communicate the information command and the consolidated command to the storage device. The controller included in the storage device is configured to receive and process the information command and the consolidated command communicated by the storage device driver, including performing operations comprising: retrieving the commands from the consolidated command using the consolidation information; and processing the commands based on the memory addresses and the data transfer counts included with the commands. These and other implementations can optionally include one or more of the following features. Constructing the information command can include setting a bit in a frame information structure associated with the information command such that when the controller included in the storage device receives and processes the information command, the controller can identify the command as an information command. Constructing the consolidated command can include setting a bit in a frame information structure associated with the consolidated command such that when the controller included in the storage device receives and processes the consolidated command, the controller can identify the command as a consolidated command. The storage device can be a SATA device utilizing NCQ with a maximum Q-Depth. The maximum Q-depth can be 32 NCQ commands wherein each of the 32 commands can be referenced by a TAG value ranging from TAG <b>0</b> to TAG <b>31</b>. The described systems and techniques can be implemented in electronic circuitry, computer hardware, firmware, software, or in combinations of them, such as the structural means disclosed in this specification and structural equivalents thereof. This can include at least one computer-readable medium embodying a program operable to cause one or more data processing apparatus (e.g., a signal processing device including a programmable processor) to perform method operations. Thus, program implementations can be realized from a disclosed method, system, or apparatus, and apparatus implementations can be realized from a disclosed system, computer-readable medium, or method. Similarly, method implementations can be realized from a disclosed system, computer-readable medium, or apparatus, and system implementations can be realized from a disclosed method, computer-readable medium, or apparatus. The described systems and techniques may result in an increase of the Command Queuing Depth (Q-depth) for Native Command Queuing (NCQ) commands beyond a maximum quantity of commands specified by the NCQ protocol. For example, the NCQ protocol for SATA devices currently specifies a maximum Q-depth of 32 commands. By consolidating NCQ commands into consolidated commands and providing consolidation for the consolidated commands in information commands, as described in detail below, NCQ for SATA devices may operate with a Q-depth above the protocols maximum of 32 commands. If the information commands and consolidated commands are based on the standard SATA specification, the systems and techniques described below may be implemented with any suitable SATA Host Bus Adapter (HBA), without a need for specialized HBA hardware. Additionally, the overhead required to process small size data transfer commands (e.g., 5 kbs or less) with random Logical Block Addresses (e.g., non-sequential LBAs) may be reduced by consolidating normal NCQ into consolidated commands and increasing the Q-Depth specified by the SATA NCQ protocol. Details of one or more implementations are set forth in the accompanying drawings and the description below. Other features and advantages may be apparent from the description and drawings, and from the claims.']\n"
     ]
    }
   ],
   "source": [
    "print(ds[0:1].text.values)"
   ]
  },
  {
   "cell_type": "markdown",
   "metadata": {},
   "source": [
    "We can compare to [full text](http://patft.uspto.gov/netacgi/nph-Parser?Sect1=PTO1&Sect2=HITOFF&d=PALL&p=1&u=%2Fnetahtml%2FPTO%2Fsrchnum.htm&r=1&f=G&l=50&s1=8918554.PN.&OS=PN/8918554&RS=PN/8918554) to see that this is not the full text, only the \"Brief Description\" section."
   ]
  },
  {
   "cell_type": "code",
   "execution_count": null,
   "metadata": {
    "collapsed": true
   },
   "outputs": [],
   "source": []
  }
 ],
 "metadata": {
  "kernelspec": {
   "display_name": "Python 3",
   "language": "python",
   "name": "python3"
  },
  "language_info": {
   "codemirror_mode": {
    "name": "ipython",
    "version": 3
   },
   "file_extension": ".py",
   "mimetype": "text/x-python",
   "name": "python",
   "nbconvert_exporter": "python",
   "pygments_lexer": "ipython3",
   "version": "3.5.3"
  }
 },
 "nbformat": 4,
 "nbformat_minor": 2
}
