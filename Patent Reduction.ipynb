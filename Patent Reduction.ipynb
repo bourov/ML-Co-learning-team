{
 "cells": [
  {
   "cell_type": "markdown",
   "metadata": {},
   "source": [
    "# Patent Reduction"
   ]
  },
  {
   "cell_type": "markdown",
   "metadata": {},
   "source": [
    "## Purpose"
   ]
  },
  {
   "cell_type": "markdown",
   "metadata": {},
   "source": [
    "The purpose of this program is to identify the core similiarities between 42 patents and applications, and reduce their number to the top 3 or 4 based on ngrams and other factors."
   ]
  },
  {
   "cell_type": "markdown",
   "metadata": {},
   "source": [
    "## Work Plan"
   ]
  },
  {
   "cell_type": "markdown",
   "metadata": {},
   "source": [
    "- Get full text of patents\n",
    "- Analyze ngrams of pantents\n",
    "- Identify embeddings \n",
    "- Conduct dimension reduction technique"
   ]
  },
  {
   "cell_type": "code",
   "execution_count": 2,
   "metadata": {
    "collapsed": true
   },
   "outputs": [],
   "source": [
    "import pandas as pd\n",
    "from bs4 import BeautifulSoup\n",
    "from bs4 import SoupStrainer\n",
    "from urllib.request import urlopen\n",
    "import re"
   ]
  },
  {
   "cell_type": "code",
   "execution_count": 3,
   "metadata": {
    "collapsed": false
   },
   "outputs": [],
   "source": [
    "patent_folder ='./Patents/gp-search-20170622-225739.csv'"
   ]
  },
  {
   "cell_type": "code",
   "execution_count": 4,
   "metadata": {
    "collapsed": false
   },
   "outputs": [],
   "source": [
    "df = pd.read_csv(patent_folder, skiprows=1)"
   ]
  },
  {
   "cell_type": "code",
   "execution_count": 5,
   "metadata": {
    "collapsed": false,
    "scrolled": true
   },
   "outputs": [
    {
     "data": {
      "text/html": [
       "<div>\n",
       "<table border=\"1\" class=\"dataframe\">\n",
       "  <thead>\n",
       "    <tr style=\"text-align: right;\">\n",
       "      <th></th>\n",
       "      <th>id</th>\n",
       "      <th>title</th>\n",
       "      <th>assignee</th>\n",
       "      <th>inventor/author</th>\n",
       "      <th>priority date</th>\n",
       "      <th>filing/creation date</th>\n",
       "      <th>publication date</th>\n",
       "      <th>grant date</th>\n",
       "      <th>result link</th>\n",
       "    </tr>\n",
       "  </thead>\n",
       "  <tbody>\n",
       "    <tr>\n",
       "      <th>0</th>\n",
       "      <td>US7286245B2</td>\n",
       "      <td>Method and apparatus for determining the influ...</td>\n",
       "      <td>Carl Zeiss Smt Ag</td>\n",
       "      <td>Ulrich Wegmann, Michael Hartl, Markus Mengel, ...</td>\n",
       "      <td>2002-07-29</td>\n",
       "      <td>2003-07-29</td>\n",
       "      <td>2007-10-23</td>\n",
       "      <td>2007-10-23</td>\n",
       "      <td>https://patents.google.com/patent/US7286245B2/en</td>\n",
       "    </tr>\n",
       "    <tr>\n",
       "      <th>1</th>\n",
       "      <td>US20080043236A1</td>\n",
       "      <td>Optical Property Measurement Apparatus and Opt...</td>\n",
       "      <td>Nikon Corporation</td>\n",
       "      <td>Koji Kaise, Toru Fujii, Yasushi Mizuno</td>\n",
       "      <td>2004-08-09</td>\n",
       "      <td>2005-08-09</td>\n",
       "      <td>2008-02-21</td>\n",
       "      <td>NaN</td>\n",
       "      <td>https://patents.google.com/patent/US2008004323...</td>\n",
       "    </tr>\n",
       "    <tr>\n",
       "      <th>2</th>\n",
       "      <td>US7277182B2</td>\n",
       "      <td>Apparatus for polarization-specific examinatio...</td>\n",
       "      <td>Carl Zeiss Smt Ag</td>\n",
       "      <td>Ulrich Wegmann, Markus Mengel</td>\n",
       "      <td>2003-07-05</td>\n",
       "      <td>2004-07-06</td>\n",
       "      <td>2007-10-02</td>\n",
       "      <td>2007-10-02</td>\n",
       "      <td>https://patents.google.com/patent/US7277182B2/en</td>\n",
       "    </tr>\n",
       "    <tr>\n",
       "      <th>3</th>\n",
       "      <td>US6788389B2</td>\n",
       "      <td>Production method of projection optical system</td>\n",
       "      <td>Nikon Corporation</td>\n",
       "      <td>Youhei Fujishima, Hironori Ikezawa, Toshihiko ...</td>\n",
       "      <td>2001-07-10</td>\n",
       "      <td>2002-07-10</td>\n",
       "      <td>2004-09-07</td>\n",
       "      <td>2004-09-07</td>\n",
       "      <td>https://patents.google.com/patent/US6788389B2/en</td>\n",
       "    </tr>\n",
       "    <tr>\n",
       "      <th>4</th>\n",
       "      <td>US6870668B2</td>\n",
       "      <td>Method for evaluating image formation performa...</td>\n",
       "      <td>Nikon Corporation</td>\n",
       "      <td>Toshihiko Ozawa</td>\n",
       "      <td>2000-10-10</td>\n",
       "      <td>2001-10-09</td>\n",
       "      <td>2005-03-22</td>\n",
       "      <td>2005-03-22</td>\n",
       "      <td>https://patents.google.com/patent/US6870668B2/en</td>\n",
       "    </tr>\n",
       "  </tbody>\n",
       "</table>\n",
       "</div>"
      ],
      "text/plain": [
       "                id                                              title  \\\n",
       "0      US7286245B2  Method and apparatus for determining the influ...   \n",
       "1  US20080043236A1  Optical Property Measurement Apparatus and Opt...   \n",
       "2      US7277182B2  Apparatus for polarization-specific examinatio...   \n",
       "3      US6788389B2    Production method of projection optical system    \n",
       "4      US6870668B2  Method for evaluating image formation performa...   \n",
       "\n",
       "            assignee                                    inventor/author  \\\n",
       "0  Carl Zeiss Smt Ag  Ulrich Wegmann, Michael Hartl, Markus Mengel, ...   \n",
       "1  Nikon Corporation             Koji Kaise, Toru Fujii, Yasushi Mizuno   \n",
       "2  Carl Zeiss Smt Ag                      Ulrich Wegmann, Markus Mengel   \n",
       "3  Nikon Corporation  Youhei Fujishima, Hironori Ikezawa, Toshihiko ...   \n",
       "4  Nikon Corporation                                    Toshihiko Ozawa   \n",
       "\n",
       "  priority date filing/creation date publication date  grant date  \\\n",
       "0    2002-07-29           2003-07-29       2007-10-23  2007-10-23   \n",
       "1    2004-08-09           2005-08-09       2008-02-21         NaN   \n",
       "2    2003-07-05           2004-07-06       2007-10-02  2007-10-02   \n",
       "3    2001-07-10           2002-07-10       2004-09-07  2004-09-07   \n",
       "4    2000-10-10           2001-10-09       2005-03-22  2005-03-22   \n",
       "\n",
       "                                         result link  \n",
       "0   https://patents.google.com/patent/US7286245B2/en  \n",
       "1  https://patents.google.com/patent/US2008004323...  \n",
       "2   https://patents.google.com/patent/US7277182B2/en  \n",
       "3   https://patents.google.com/patent/US6788389B2/en  \n",
       "4   https://patents.google.com/patent/US6870668B2/en  "
      ]
     },
     "execution_count": 5,
     "metadata": {},
     "output_type": "execute_result"
    }
   ],
   "source": [
    "df.head()"
   ]
  },
  {
   "cell_type": "markdown",
   "metadata": {},
   "source": [
    "In order to download the text of each of the patents listed above, we'll use the unique urls for each patent provided by the United States Patent and Trademark Office and then scrape the pages using BeautifulSoup. "
   ]
  },
  {
   "cell_type": "markdown",
   "metadata": {},
   "source": [
    "## Generating the Unique URLs"
   ]
  },
  {
   "cell_type": "markdown",
   "metadata": {},
   "source": [
    "Select the \"id\" column in the data frame. "
   ]
  },
  {
   "cell_type": "code",
   "execution_count": 6,
   "metadata": {
    "collapsed": true
   },
   "outputs": [],
   "source": [
    "patent_id_column=df['id']"
   ]
  },
  {
   "cell_type": "markdown",
   "metadata": {},
   "source": [
    "Next, create a list that contains each id number"
   ]
  },
  {
   "cell_type": "code",
   "execution_count": 7,
   "metadata": {
    "collapsed": false
   },
   "outputs": [],
   "source": [
    "patent_id = [i for i in patent_id_column]"
   ]
  },
  {
   "cell_type": "markdown",
   "metadata": {},
   "source": [
    "An inspection of the USPTO website reveals that the url for each patent contains the patent number repeated three times within the url. However, the initial 'US' and final 'A1' or 'B2' has been removed. \n",
    "\n",
    "To to that end, we need to slice each item in the patent_id list so as to remove the intial two and final two charachers from each item.   "
   ]
  },
  {
   "cell_type": "code",
   "execution_count": 8,
   "metadata": {
    "collapsed": true
   },
   "outputs": [],
   "source": [
    "patent_id_numbers =[i[2:-2] for i in patent_id_column]"
   ]
  },
  {
   "cell_type": "markdown",
   "metadata": {},
   "source": [
    "For example:"
   ]
  },
  {
   "cell_type": "code",
   "execution_count": 9,
   "metadata": {
    "collapsed": false
   },
   "outputs": [
    {
     "data": {
      "text/plain": [
       "'US7286245B2'"
      ]
     },
     "execution_count": 9,
     "metadata": {},
     "output_type": "execute_result"
    }
   ],
   "source": [
    "patent_id[0] "
   ]
  },
  {
   "cell_type": "markdown",
   "metadata": {},
   "source": [
    "versus"
   ]
  },
  {
   "cell_type": "code",
   "execution_count": 10,
   "metadata": {
    "collapsed": false
   },
   "outputs": [
    {
     "data": {
      "text/plain": [
       "'7286245'"
      ]
     },
     "execution_count": 10,
     "metadata": {},
     "output_type": "execute_result"
    }
   ],
   "source": [
    "patent_id_numbers[0]"
   ]
  },
  {
   "cell_type": "markdown",
   "metadata": {},
   "source": [
    "Next, we take the patent_id_numbers and insert them into the url template so as to create the unique url for each patent.\n",
    "\n",
    "To do that, we'll use a for loop where we replace each instance of the patent number with 'i'."
   ]
  },
  {
   "cell_type": "code",
   "execution_count": 11,
   "metadata": {
    "collapsed": false
   },
   "outputs": [],
   "source": [
    "url_list = []\n",
    "for i in patent_id_numbers:\n",
    "    #Use each of the unique patent id numbers to create a unique url\n",
    "    url = \"http://patft.uspto.gov/netacgi/nph-Parser?Sect1=PTO1&Sect2=HITOFF&d=PALL&p=1&u=%2Fnetahtml%2FPTO%2Fsrchnum.htm&r=1&f=G&l=50&s1=\"+i+\".PN.&OS=PN/\"+i+\"&RS=PN/\"+i\n",
    "    url_list.append(url)"
   ]
  },
  {
   "cell_type": "markdown",
   "metadata": {},
   "source": [
    "Now we have a list of the unique urls for each of the patents. "
   ]
  },
  {
   "cell_type": "markdown",
   "metadata": {},
   "source": [
    "Next, in order to analyze the text, we need to to get the text from patent's webpage. To do so, we use BeautifulSoup.  "
   ]
  }
 ],
 "metadata": {
  "kernelspec": {
   "display_name": "Python 3",
   "language": "python",
   "name": "python3"
  },
  "language_info": {
   "codemirror_mode": {
    "name": "ipython",
    "version": 3
   },
   "file_extension": ".py",
   "mimetype": "text/x-python",
   "name": "python",
   "nbconvert_exporter": "python",
   "pygments_lexer": "ipython3",
   "version": "3.6.0"
  }
 },
 "nbformat": 4,
 "nbformat_minor": 2
}
