{
 "cells": [
  {
   "cell_type": "markdown",
   "metadata": {},
   "source": [
    "# Patent Reduction"
   ]
  },
  {
   "cell_type": "markdown",
   "metadata": {},
   "source": [
    "## Purpose"
   ]
  },
  {
   "cell_type": "markdown",
   "metadata": {},
   "source": [
    "The purpose of this program is to identify the core similiarities between 42 patents and applications, and reduce their number to the top 3 or 4 based on ngrams and other factors."
   ]
  },
  {
   "cell_type": "markdown",
   "metadata": {},
   "source": [
    "## Work Plan"
   ]
  },
  {
   "cell_type": "markdown",
   "metadata": {},
   "source": [
    "- Get full text of patents\n",
    "- Analyze ngrams of pantents\n",
    "- Identify embeddings \n",
    "- Conduct dimension reduction technique"
   ]
  },
  {
   "cell_type": "code",
   "execution_count": 2,
   "metadata": {
    "collapsed": true
   },
   "outputs": [],
   "source": [
    "import pandas as pd\n",
    "import os"
   ]
  },
  {
   "cell_type": "code",
   "execution_count": 8,
   "metadata": {
    "collapsed": false
   },
   "outputs": [],
   "source": [
    "url ='./Patents/gp-search-20170622-225739.csv'"
   ]
  },
  {
   "cell_type": "code",
   "execution_count": 9,
   "metadata": {
    "collapsed": false
   },
   "outputs": [],
   "source": [
    "df = pd.read_csv(url, skiprows=1)"
   ]
  },
  {
   "cell_type": "code",
   "execution_count": 10,
   "metadata": {
    "collapsed": false
   },
   "outputs": [
    {
     "data": {
      "text/html": [
       "<div>\n",
       "<table border=\"1\" class=\"dataframe\">\n",
       "  <thead>\n",
       "    <tr style=\"text-align: right;\">\n",
       "      <th></th>\n",
       "      <th>id</th>\n",
       "      <th>title</th>\n",
       "      <th>assignee</th>\n",
       "      <th>inventor/author</th>\n",
       "      <th>priority date</th>\n",
       "      <th>filing/creation date</th>\n",
       "      <th>publication date</th>\n",
       "      <th>grant date</th>\n",
       "      <th>result link</th>\n",
       "    </tr>\n",
       "  </thead>\n",
       "  <tbody>\n",
       "    <tr>\n",
       "      <th>0</th>\n",
       "      <td>US7286245B2</td>\n",
       "      <td>Method and apparatus for determining the influ...</td>\n",
       "      <td>Carl Zeiss Smt Ag</td>\n",
       "      <td>Ulrich Wegmann, Michael Hartl, Markus Mengel, ...</td>\n",
       "      <td>2002-07-29</td>\n",
       "      <td>2003-07-29</td>\n",
       "      <td>2007-10-23</td>\n",
       "      <td>2007-10-23</td>\n",
       "      <td>https://patents.google.com/patent/US7286245B2/en</td>\n",
       "    </tr>\n",
       "    <tr>\n",
       "      <th>1</th>\n",
       "      <td>US20080043236A1</td>\n",
       "      <td>Optical Property Measurement Apparatus and Opt...</td>\n",
       "      <td>Nikon Corporation</td>\n",
       "      <td>Koji Kaise, Toru Fujii, Yasushi Mizuno</td>\n",
       "      <td>2004-08-09</td>\n",
       "      <td>2005-08-09</td>\n",
       "      <td>2008-02-21</td>\n",
       "      <td>NaN</td>\n",
       "      <td>https://patents.google.com/patent/US2008004323...</td>\n",
       "    </tr>\n",
       "    <tr>\n",
       "      <th>2</th>\n",
       "      <td>US7277182B2</td>\n",
       "      <td>Apparatus for polarization-specific examinatio...</td>\n",
       "      <td>Carl Zeiss Smt Ag</td>\n",
       "      <td>Ulrich Wegmann, Markus Mengel</td>\n",
       "      <td>2003-07-05</td>\n",
       "      <td>2004-07-06</td>\n",
       "      <td>2007-10-02</td>\n",
       "      <td>2007-10-02</td>\n",
       "      <td>https://patents.google.com/patent/US7277182B2/en</td>\n",
       "    </tr>\n",
       "    <tr>\n",
       "      <th>3</th>\n",
       "      <td>US6788389B2</td>\n",
       "      <td>Production method of projection optical system</td>\n",
       "      <td>Nikon Corporation</td>\n",
       "      <td>Youhei Fujishima, Hironori Ikezawa, Toshihiko ...</td>\n",
       "      <td>2001-07-10</td>\n",
       "      <td>2002-07-10</td>\n",
       "      <td>2004-09-07</td>\n",
       "      <td>2004-09-07</td>\n",
       "      <td>https://patents.google.com/patent/US6788389B2/en</td>\n",
       "    </tr>\n",
       "    <tr>\n",
       "      <th>4</th>\n",
       "      <td>US6870668B2</td>\n",
       "      <td>Method for evaluating image formation performa...</td>\n",
       "      <td>Nikon Corporation</td>\n",
       "      <td>Toshihiko Ozawa</td>\n",
       "      <td>2000-10-10</td>\n",
       "      <td>2001-10-09</td>\n",
       "      <td>2005-03-22</td>\n",
       "      <td>2005-03-22</td>\n",
       "      <td>https://patents.google.com/patent/US6870668B2/en</td>\n",
       "    </tr>\n",
       "  </tbody>\n",
       "</table>\n",
       "</div>"
      ],
      "text/plain": [
       "                id                                              title  \\\n",
       "0      US7286245B2  Method and apparatus for determining the influ...   \n",
       "1  US20080043236A1  Optical Property Measurement Apparatus and Opt...   \n",
       "2      US7277182B2  Apparatus for polarization-specific examinatio...   \n",
       "3      US6788389B2    Production method of projection optical system    \n",
       "4      US6870668B2  Method for evaluating image formation performa...   \n",
       "\n",
       "            assignee                                    inventor/author  \\\n",
       "0  Carl Zeiss Smt Ag  Ulrich Wegmann, Michael Hartl, Markus Mengel, ...   \n",
       "1  Nikon Corporation             Koji Kaise, Toru Fujii, Yasushi Mizuno   \n",
       "2  Carl Zeiss Smt Ag                      Ulrich Wegmann, Markus Mengel   \n",
       "3  Nikon Corporation  Youhei Fujishima, Hironori Ikezawa, Toshihiko ...   \n",
       "4  Nikon Corporation                                    Toshihiko Ozawa   \n",
       "\n",
       "  priority date filing/creation date publication date  grant date  \\\n",
       "0    2002-07-29           2003-07-29       2007-10-23  2007-10-23   \n",
       "1    2004-08-09           2005-08-09       2008-02-21         NaN   \n",
       "2    2003-07-05           2004-07-06       2007-10-02  2007-10-02   \n",
       "3    2001-07-10           2002-07-10       2004-09-07  2004-09-07   \n",
       "4    2000-10-10           2001-10-09       2005-03-22  2005-03-22   \n",
       "\n",
       "                                         result link  \n",
       "0   https://patents.google.com/patent/US7286245B2/en  \n",
       "1  https://patents.google.com/patent/US2008004323...  \n",
       "2   https://patents.google.com/patent/US7277182B2/en  \n",
       "3   https://patents.google.com/patent/US6788389B2/en  \n",
       "4   https://patents.google.com/patent/US6870668B2/en  "
      ]
     },
     "execution_count": 10,
     "metadata": {},
     "output_type": "execute_result"
    }
   ],
   "source": [
    "df.head()"
   ]
  },
  {
   "cell_type": "code",
   "execution_count": 14,
   "metadata": {
    "collapsed": false
   },
   "outputs": [
    {
     "data": {
      "text/plain": [
       "'https://patents.google.com/patent/US20080043236A1/en'"
      ]
     },
     "execution_count": 14,
     "metadata": {},
     "output_type": "execute_result"
    }
   ],
   "source": []
  },
  {
   "cell_type": "code",
   "execution_count": 18,
   "metadata": {
    "collapsed": false
   },
   "outputs": [],
   "source": [
    "import spacy\n",
    "from collections import Counter, defaultdict\n"
   ]
  },
  {
   "cell_type": "code",
   "execution_count": 14,
   "metadata": {
    "collapsed": false
   },
   "outputs": [],
   "source": [
    "nlp = spacy.load('en')\n",
    "doc = nlp(u'This is a sentence. This is a golfing green')"
   ]
  },
  {
   "cell_type": "code",
   "execution_count": 15,
   "metadata": {
    "collapsed": false
   },
   "outputs": [
    {
     "name": "stdout",
     "output_type": "stream",
     "text": [
      "This\n",
      "This is a sentence.\n",
      "This is a golfing green\n"
     ]
    }
   ],
   "source": [
    "\n",
    "# Get first token of the processed document\n",
    "token = doc[0]\n",
    "print(token)\n",
    "\n",
    "# Print sentences (one sentence per line)\n",
    "for sent in doc.sents:\n",
    "    print(sent)"
   ]
  },
  {
   "cell_type": "code",
   "execution_count": 19,
   "metadata": {
    "collapsed": false
   },
   "outputs": [
    {
     "data": {
      "text/plain": [
       "[('polarization', 7),\n",
       " ('the influencing', 3),\n",
       " ('the state', 3),\n",
       " ('optical radiation', 2),\n",
       " ('the optical system', 2),\n",
       " ('an optical system', 1),\n",
       " ('test', 1),\n",
       " ('radiation', 1),\n",
       " ('a define entrance state', 1),\n",
       " ('the exit - side state', 1),\n",
       " ('the aid', 1),\n",
       " ('evaluation', 1),\n",
       " ('the exit state', 1),\n",
       " ('reference', 1),\n",
       " ('the entrance state', 1),\n",
       " ('an analyser arrangement', 1),\n",
       " ('this purpose', 1),\n",
       " ('the method', 1),\n",
       " ('the apparatus', 1),\n",
       " ('an optical imaging system', 1)]"
      ]
     },
     "execution_count": 19,
     "metadata": {},
     "output_type": "execute_result"
    }
   ],
   "source": [
    "#article = read_file('data/article.txt')\n",
    "article = 'A method and an apparatus for determining the influencing of the state of polarization of optical radiation by an optical system under test, wherein radiation with a defined entrance state of polarization is directed onto the optical system, the exit-side state of polarization is measured, and the influencing of the state of polarization is determined by the optical system with the aid of evaluation of the exit state of polarization with reference to the entrance state of polarization. An analyser arrangement which can be used for this purpose is also disclosed. The method and the apparatus are used, e.g., to determine the influencing of the state of polarization of optical radiation by an optical imaging system of prescribable aperture, the determination being performed in a pupil-resolved fashion.'\n",
    "doc = nlp(article)\n",
    "\n",
    "keywords = Counter()\n",
    "for chunk in doc.noun_chunks:\n",
    "    if nlp.vocab[chunk.lemma_].prob < - 8: # probablity value -8 is arbitrarily selected threshold\n",
    "        keywords[chunk.lemma_] += 1\n",
    "\n",
    "keywords.most_common(20)\n"
   ]
  },
  {
   "cell_type": "code",
   "execution_count": null,
   "metadata": {
    "collapsed": true
   },
   "outputs": [],
   "source": []
  }
 ],
 "metadata": {
  "kernelspec": {
   "display_name": "Python 3",
   "language": "python",
   "name": "python3"
  },
  "language_info": {
   "codemirror_mode": {
    "name": "ipython",
    "version": 3
   },
   "file_extension": ".py",
   "mimetype": "text/x-python",
   "name": "python",
   "nbconvert_exporter": "python",
   "pygments_lexer": "ipython3",
   "version": "3.6.1"
  }
 },
 "nbformat": 4,
 "nbformat_minor": 2
}
