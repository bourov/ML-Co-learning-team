{
 "cells": [
  {
   "cell_type": "markdown",
   "metadata": {},
   "source": [
    "# Classifier for CEFR Levels"
   ]
  },
  {
   "cell_type": "code",
   "execution_count": null,
   "metadata": {
    "collapsed": true
   },
   "outputs": [],
   "source": []
  },
  {
   "cell_type": "code",
   "execution_count": 3,
   "metadata": {
    "collapsed": false
   },
   "outputs": [],
   "source": [
    "from theano.sandbox import cuda"
   ]
  },
  {
   "cell_type": "code",
   "execution_count": 4,
   "metadata": {
    "collapsed": false
   },
   "outputs": [
    {
     "name": "stderr",
     "output_type": "stream",
     "text": [
      "Using TensorFlow backend.\n"
     ]
    }
   ],
   "source": [
    "from keras.models import Sequential\n",
    "from keras.layers import Embedding, Dense, Convolution1D, MaxPooling1D, Dropout, Flatten, BatchNormalization"
   ]
  },
  {
   "cell_type": "code",
   "execution_count": 5,
   "metadata": {
    "collapsed": false
   },
   "outputs": [],
   "source": [
    "import numpy as np\n",
    "import string\n",
    "import cloudpickle as pickle\n",
    "import re\n",
    "import pandas as pd\n",
    "import itertools\n",
    "import bcolz\n",
    "import os\n",
    "from keras.utils.np_utils import to_categorical\n",
    "from keras.utils.data_utils import get_file\n",
    "from keras.preprocessing.sequence import pad_sequences"
   ]
  },
  {
   "cell_type": "markdown",
   "metadata": {},
   "source": [
    "This path can be adjusted as needed; I just dumped the 'sentences' folder from the unzipped file from Giuseppe and put it in the /data directory."
   ]
  },
  {
   "cell_type": "code",
   "execution_count": 6,
   "metadata": {
    "collapsed": true
   },
   "outputs": [],
   "source": [
    "data_path = 'data/sentences/'"
   ]
  },
  {
   "cell_type": "code",
   "execution_count": 7,
   "metadata": {
    "collapsed": true
   },
   "outputs": [],
   "source": [
    "%matplotlib inline"
   ]
  },
  {
   "cell_type": "code",
   "execution_count": 8,
   "metadata": {
    "collapsed": true
   },
   "outputs": [],
   "source": [
    "model_path = 'data/models'"
   ]
  },
  {
   "cell_type": "code",
   "execution_count": 9,
   "metadata": {
    "collapsed": true
   },
   "outputs": [],
   "source": [
    "cefr_levels = ['a1','a2','b1','b2']"
   ]
  },
  {
   "cell_type": "markdown",
   "metadata": {},
   "source": [
    "## Sort data into train, valid, and test sets"
   ]
  },
  {
   "cell_type": "code",
   "execution_count": 10,
   "metadata": {
    "collapsed": false
   },
   "outputs": [
    {
     "data": {
      "text/plain": [
       "'/Users/Anatoly/GitHub/ML-Co-learning-team/CEFR'"
      ]
     },
     "execution_count": 10,
     "metadata": {},
     "output_type": "execute_result"
    }
   ],
   "source": [
    "%pwd"
   ]
  },
  {
   "cell_type": "code",
   "execution_count": 11,
   "metadata": {
    "collapsed": false
   },
   "outputs": [
    {
     "name": "stdout",
     "output_type": "stream",
     "text": [
      "mkdir: data/train: File exists\n",
      "mkdir: data/valid: File exists\n",
      "mkdir: data/test: File exists\n"
     ]
    }
   ],
   "source": [
    "%mkdir 'data/train'\n",
    "%mkdir 'data/valid'\n",
    "%mkdir 'data/test'"
   ]
  },
  {
   "cell_type": "code",
   "execution_count": 12,
   "metadata": {
    "collapsed": true
   },
   "outputs": [],
   "source": [
    "train_path = 'data/train/'\n",
    "valid_path = 'data/valid/'\n",
    "test_path =  'data/test/'"
   ]
  },
  {
   "cell_type": "markdown",
   "metadata": {
    "collapsed": true
   },
   "source": [
    "#### Adjust what share of the data you want allocated to each subset."
   ]
  },
  {
   "cell_type": "code",
   "execution_count": 13,
   "metadata": {
    "collapsed": true
   },
   "outputs": [],
   "source": [
    "train_share = 0.6\n",
    "valid_share = 0.2\n",
    "test_share = 0.2\n",
    "assert train_share + valid_share + test_share == 1"
   ]
  },
  {
   "cell_type": "markdown",
   "metadata": {},
   "source": [
    "#### Read the data and randomly sort into subsets.\n",
    "After sorting, arrays are saved to file (w/Pickle) so this step only has to be done once."
   ]
  },
  {
   "cell_type": "code",
   "execution_count": 16,
   "metadata": {
    "collapsed": false
   },
   "outputs": [
    {
     "name": "stdout",
     "output_type": "stream",
     "text": [
      "a1 2487\n",
      "a2 5110\n",
      "b1 6371\n",
      "b2 4806\n"
     ]
    }
   ],
   "source": [
    "base_file = ' sentences.txt'\n",
    "train = np.empty((1,2),dtype='object')\n",
    "valid = np.empty((1,2),dtype='object')\n",
    "test  = np.empty((1,2),dtype='object')\n",
    "for l in range(len(cefr_levels)):\n",
    "    level = []\n",
    "    with open(data_path + cefr_levels[l] + base_file,'r') as f:\n",
    "        for line in f:\n",
    "            # following line crashes my pc (py3.6), Anatoly 7/3\n",
    "            #raw = line.strip().decode('unicode_escape').encode('ascii','ignore')\n",
    "            #no_punctuation = raw.translate(None, string.punctuation)\n",
    "            #words = no_punctuation.split(' ')\n",
    "            #level.append((words,l))\n",
    "            level.append((line,l))\n",
    "            \n",
    "    count = len(level)\n",
    "    print(cefr_levels[l],count)\n",
    "    train_idx = int(train_share * count)\n",
    "    valid_idx = int(valid_share * count) + train_idx\n",
    "    shuf = np.random.permutation(level)\n",
    "    train = np.concatenate((train, shuf[:train_idx]))\n",
    "    valid = np.concatenate((valid, shuf[train_idx:valid_idx]))\n",
    "    test  = np.concatenate((test,  shuf[valid_idx:]))\n",
    "\n",
    "pickle.dump(train, open(train_path + \"sentences.p\", 'wb'))  \n",
    "pickle.dump(valid, open(valid_path + \"sentences.p\", 'wb'))\n",
    "pickle.dump(test,  open(test_path + \"sentences.p\", 'wb'))\n"
   ]
  },
  {
   "cell_type": "code",
   "execution_count": null,
   "metadata": {
    "collapsed": false
   },
   "outputs": [],
   "source": [
    "import spacy\n",
    "nlp = spacy.load('en')\n"
   ]
  },
  {
   "cell_type": "code",
   "execution_count": null,
   "metadata": {
    "collapsed": false
   },
   "outputs": [],
   "source": [
    "text = open(data_path + cefr_levels[0] + base_file).read()\n",
    "doc = nlp(text)"
   ]
  },
  {
   "cell_type": "code",
   "execution_count": null,
   "metadata": {
    "collapsed": false
   },
   "outputs": [],
   "source": [
    "for s in doc.sents:\n",
    "    print(s.vector)"
   ]
  },
  {
   "cell_type": "markdown",
   "metadata": {
    "collapsed": false
   },
   "source": [
    "### Load and process data"
   ]
  },
  {
   "cell_type": "code",
   "execution_count": null,
   "metadata": {
    "collapsed": true
   },
   "outputs": [],
   "source": [
    "train_file = pickle.load(open(train_path + 'sentences.p','rb'))\n",
    "valid_file = pickle.load(open(valid_path + 'sentences.p','rb'))\n",
    "test_file  = pickle.load(open(test_path + 'sentences.p','rb'))\n",
    "\n",
    "train, train_labels = zip(*train_file)\n",
    "valid, valid_labels = zip(*valid_file)\n",
    "test, test_labels   = zip(*test_file)"
   ]
  },
  {
   "cell_type": "code",
   "execution_count": null,
   "metadata": {
    "collapsed": false
   },
   "outputs": [],
   "source": [
    "print(len(train),len(valid),len(test))"
   ]
  },
  {
   "cell_type": "code",
   "execution_count": null,
   "metadata": {
    "collapsed": false
   },
   "outputs": [],
   "source": [
    "print(len(train_labels),len(valid_labels),len(test_labels))"
   ]
  },
  {
   "cell_type": "code",
   "execution_count": null,
   "metadata": {
    "collapsed": false
   },
   "outputs": [],
   "source": [
    "print(train[2500])"
   ]
  },
  {
   "cell_type": "code",
   "execution_count": null,
   "metadata": {
    "collapsed": false
   },
   "outputs": [],
   "source": [
    "print(train_labels[2500])"
   ]
  },
  {
   "cell_type": "markdown",
   "metadata": {},
   "source": [
    "Use one-hot encoding on the labels:"
   ]
  },
  {
   "cell_type": "code",
   "execution_count": null,
   "metadata": {
    "collapsed": true
   },
   "outputs": [],
   "source": [
    "train_labels = to_categorical(train_labels)\n",
    "valid_labels = to_categorical(valid_labels)\n",
    "test_labels = to_categorical(test_labels)"
   ]
  },
  {
   "cell_type": "code",
   "execution_count": null,
   "metadata": {
    "collapsed": false
   },
   "outputs": [],
   "source": [
    "train_labels[2500]"
   ]
  }
 ],
 "metadata": {
  "anaconda-cloud": {},
  "kernelspec": {
   "display_name": "Python 3",
   "language": "python",
   "name": "python3"
  },
  "language_info": {
   "codemirror_mode": {
    "name": "ipython",
    "version": 3
   },
   "file_extension": ".py",
   "mimetype": "text/x-python",
   "name": "python",
   "nbconvert_exporter": "python",
   "pygments_lexer": "ipython3",
   "version": "3.6.1"
  }
 },
 "nbformat": 4,
 "nbformat_minor": 1
}
