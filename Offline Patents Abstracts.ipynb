{
 "cells": [
  {
   "cell_type": "code",
   "execution_count": 1,
   "metadata": {
    "collapsed": true
   },
   "outputs": [],
   "source": [
    "fileName = './Patents/excel2017-06-27-12-04-58.xlsx'"
   ]
  },
  {
   "cell_type": "code",
   "execution_count": 2,
   "metadata": {
    "collapsed": true
   },
   "outputs": [],
   "source": [
    "import pandas as pd"
   ]
  },
  {
   "cell_type": "code",
   "execution_count": 16,
   "metadata": {},
   "outputs": [],
   "source": [
    "dfFull = pd.read_excel(fileName, skiprows=1)"
   ]
  },
  {
   "cell_type": "code",
   "execution_count": 19,
   "metadata": {},
   "outputs": [],
   "source": [
    "df = dfFull[['申请号','公开号','摘要']]"
   ]
  },
  {
   "cell_type": "code",
   "execution_count": 20,
   "metadata": {},
   "outputs": [
    {
     "data": {
      "text/plain": [
       "array([ 'A method and an apparatus for determining the influencing of the state of polarization of optical radiation by an optical system under test, wherein radiation with a defined entrance state of polarization is directed onto the optical system, the exit-side state of polarization is measured, and the influencing of the state of polarization is determined by the optical system with the aid of evaluation of the exit state of polarization with reference to the entrance state of polarization. An analyser arrangement which can be used for this purpose is also disclosed. The method and the apparatus are used, e.g., to determine the influencing of the state of polarization of optical radiation by an optical imaging system of prescribable aperture, the determination being performed in a pupil-resolved fashion.',\n",
       "       'An optical property measurement apparatus is equipped with an optical system unit that selectively places an opening section for passing illumination light, a microlens array for measuring wavefront aberration, and a polarization detection system for measuring a polarization state of the illumination light on an optical path of the illumination light. Accordingly an illumination shape and a size of an illumination optical system, wavefront aberration of a projection optical system and a polarization state of the illumination light can be measured together. Therefore, for example, even when exposure is performed with polarized illumination that is a type of modified illumination, highly-accurate exposure can be achieved by adjusting various optical systems based on the measurement results.'], dtype=object)"
      ]
     },
     "execution_count": 20,
     "metadata": {},
     "output_type": "execute_result"
    }
   ],
   "source": [
    "df.摘要[0:2].values"
   ]
  },
  {
   "cell_type": "code",
   "execution_count": 21,
   "metadata": {},
   "outputs": [
    {
     "data": {
      "text/plain": [
       "申请号    object\n",
       "公开号    object\n",
       "摘要     object\n",
       "dtype: object"
      ]
     },
     "execution_count": 21,
     "metadata": {},
     "output_type": "execute_result"
    }
   ],
   "source": [
    "df.dtypes"
   ]
  },
  {
   "cell_type": "code",
   "execution_count": null,
   "metadata": {
    "collapsed": true
   },
   "outputs": [],
   "source": []
  }
 ],
 "metadata": {
  "kernelspec": {
   "display_name": "Python 3",
   "language": "python",
   "name": "python3"
  },
  "language_info": {
   "codemirror_mode": {
    "name": "ipython",
    "version": 3
   },
   "file_extension": ".py",
   "mimetype": "text/x-python",
   "name": "python",
   "nbconvert_exporter": "python",
   "pygments_lexer": "ipython3",
   "version": "3.6.1"
  }
 },
 "nbformat": 4,
 "nbformat_minor": 2
}
